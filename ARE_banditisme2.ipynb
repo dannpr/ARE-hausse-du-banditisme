{
 "cells": [
  {
   "cell_type": "markdown",
   "metadata": {},
   "source": [
    "# SOCIETE "
   ]
  },
  {
   "cell_type": "markdown",
   "metadata": {},
   "source": [
    "*** Dans la premiere matrice on place les riches(modélisé à 1) et les pauvres (modélisé à 0) selon la probabilités que nous donnons ***"
   ]
  },
  {
   "cell_type": "code",
   "execution_count": 1,
   "metadata": {
    "scrolled": true
   },
   "outputs": [
    {
     "name": "stdout",
     "output_type": "stream",
     "text": [
      "\n",
      "\n",
      "\t\t VILLE BASIQUE\n",
      "\n",
      "\n",
      "\n",
      "[[1 1 0 1 0 0 0 0 0 0]\n",
      " [1 0 1 1 0 1 0 0 1 1]\n",
      " [1 1 0 0 1 1 0 0 0 0]\n",
      " [1 1 1 1 0 1 0 1 1 1]\n",
      " [0 1 1 0 1 1 1 0 0 0]\n",
      " [0 1 1 0 1 0 1 1 0 0]\n",
      " [0 1 0 0 1 0 1 1 0 1]\n",
      " [1 1 1 0 1 0 1 1 1 1]\n",
      " [0 1 0 0 1 1 1 1 0 1]\n",
      " [0 1 0 1 1 0 1 1 0 0]]\n"
     ]
    },
    {
     "data": {
      "text/plain": [
       "array([[1, 1, 0, 1, 0, 0, 0, 0, 0, 0],\n",
       "       [1, 0, 1, 1, 0, 1, 0, 0, 1, 1],\n",
       "       [1, 1, 0, 0, 1, 1, 0, 0, 0, 0],\n",
       "       [1, 1, 1, 1, 0, 1, 0, 1, 1, 1],\n",
       "       [0, 1, 1, 0, 1, 1, 1, 0, 0, 0],\n",
       "       [0, 1, 1, 0, 1, 0, 1, 1, 0, 0],\n",
       "       [0, 1, 0, 0, 1, 0, 1, 1, 0, 1],\n",
       "       [1, 1, 1, 0, 1, 0, 1, 1, 1, 1],\n",
       "       [0, 1, 0, 0, 1, 1, 1, 1, 0, 1],\n",
       "       [0, 1, 0, 1, 1, 0, 1, 1, 0, 0]], dtype=int32)"
      ]
     },
     "execution_count": 1,
     "metadata": {},
     "output_type": "execute_result"
    }
   ],
   "source": [
    "\n",
    "import numpy as np\n",
    "import random\n",
    "\n",
    "def tableauBase(P):\n",
    "    \"\"\"les O sont les batiments pauvres et 1 les batiments riches.\"\"\"\n",
    "    tableau_de_zero_un = np.zeros((10,10), dtype='i')\n",
    "    for i in range(len(tableau_de_zero_un)):\n",
    "        for j in range(len(tableau_de_zero_un)):\n",
    "            if random.random() < P :\n",
    "                tableau_de_zero_un[i,j] = 1\n",
    "    print(\"\\n\\n\\t\\t VILLE BASIQUE\\n\\n\\n\")\n",
    "    print(tableau_de_zero_un)\n",
    "    return tableau_de_zero_un\n",
    "    \n",
    "tableauBase(0.6)"
   ]
  },
  {
   "cell_type": "markdown",
   "metadata": {},
   "source": [
    "*** la deuxieme matrice represente la creation de gang dû à la présence d'un \" carré\"(de -1) de 4 \"batiments\" de pauvres.***"
   ]
  },
  {
   "cell_type": "code",
   "execution_count": 9,
   "metadata": {
    "scrolled": true
   },
   "outputs": [
    {
     "name": "stdout",
     "output_type": "stream",
     "text": [
      "\n",
      "\n",
      "\t\t VILLE BASIQUE\n",
      "\n",
      "\n",
      "\n",
      "[[1 0 0 1 1 0 1 1 0 0]\n",
      " [1 1 0 0 1 1 1 0 1 1]\n",
      " [0 1 1 0 1 0 1 0 0 0]\n",
      " [1 1 0 1 0 1 0 1 1 1]\n",
      " [1 0 0 0 1 1 1 0 0 1]\n",
      " [1 1 0 0 1 1 1 1 0 0]\n",
      " [1 1 0 1 1 0 0 0 0 1]\n",
      " [1 0 1 1 0 1 0 0 0 1]\n",
      " [0 0 0 1 0 1 1 1 0 0]\n",
      " [1 1 1 0 1 1 1 0 1 0]]\n",
      "\n",
      "\n",
      "\t\t VILLE AVEC GANG\n",
      "\n",
      "\n",
      "\n",
      "[[ 1  0  0  1  1  0  1  1  0  0]\n",
      " [ 1  1  0  0  1  1  1  0  1  1]\n",
      " [ 0  1  1  0  1  0  1  0  0  0]\n",
      " [ 1  1  0  1  0  1  0  1  1  1]\n",
      " [ 1  0 -1 -1  1  1  1  0  0  1]\n",
      " [ 1  1 -1 -1  1  1  1  1  0  0]\n",
      " [ 1  1  0  1  1  0 -1 -1  0  1]\n",
      " [ 1  0  1  1  0  1 -1 -1  0  1]\n",
      " [ 0  0  0  1  0  1  1  1  0  0]\n",
      " [ 1  1  1  0  1  1  1  0  1  0]]\n"
     ]
    }
   ],
   "source": [
    "\n",
    "import numpy as np\n",
    "\n",
    "def creationDeGang(tab,P):\n",
    "    \"\"\"H: nous voulons savoir si un carré crée un groupe de gang (nommé 3)\"\"\"\n",
    "    tableau = tab.copy()\n",
    "    for i in range(len(tableau)) :\n",
    "        for j in range(len(tableau)) :\n",
    "            if  i+1 < len(tableau) and i-1 >= 0 and  j+1 < len(tableau) and j-1 >= 0:\n",
    "                 if tableau[i,j] == 0 and tableau[i+1,j]==0  and tableau[i,j+1]==0 and tableau[i+1,j+1]==0 :\n",
    "                    tableau[i,j] = -1\n",
    "                    tableau[i+1,j]=-1 \n",
    "                    tableau[i,j+1]=-1\n",
    "                    tableau[i+1,j+1]=-1           \n",
    "    print(\"\\n\\n\\t\\t VILLE AVEC GANG\\n\\n\\n\")\n",
    "    print(tableau)\n",
    "    return tableau\n",
    "\n",
    "tab = creationDeGang(tableauBase(0.5),0.5)"
   ]
  },
  {
   "cell_type": "markdown",
   "metadata": {},
   "source": [
    "***les carrés de violet seront les gangs crée ,je 1 est en jaune et en bleu le 0***"
   ]
  },
  {
   "cell_type": "markdown",
   "metadata": {},
   "source": [
    "***On remarque que il y a des gangs qui se crée peu a peu dû à la grande présence de 0 (de pauvreté)***"
   ]
  },
  {
   "cell_type": "code",
   "execution_count": 8,
   "metadata": {
    "scrolled": true
   },
   "outputs": [
    {
     "name": "stdout",
     "output_type": "stream",
     "text": [
      "\n",
      "\n",
      "\t\t VILLE BASIQUE\n",
      "\n",
      "\n",
      "\n",
      "[[1 0 0 0 1 1 0 1 1 0]\n",
      " [1 1 0 0 1 0 0 0 1 0]\n",
      " [1 0 1 1 1 0 1 1 1 1]\n",
      " [0 1 0 1 0 1 0 1 1 0]\n",
      " [0 0 0 1 0 0 0 0 1 1]\n",
      " [0 1 0 0 1 1 0 0 0 1]\n",
      " [0 1 0 1 0 0 0 1 1 1]\n",
      " [0 1 0 1 0 1 0 0 1 0]\n",
      " [0 1 0 0 0 0 1 0 1 1]\n",
      " [1 1 0 1 0 0 1 0 0 1]]\n",
      "\n",
      "\n",
      "\t\t VILLE AVEC GANG\n",
      "\n",
      "\n",
      "\n",
      "[[ 1  0  0  0  1  1  0  1  1  0]\n",
      " [ 1  1  0  0  1  0  0  0  1  0]\n",
      " [ 1  0  1  1  1  0  1  1  1  1]\n",
      " [ 0  1  0  1  0  1  0  1  1  0]\n",
      " [ 0  0  0  1  0  0 -1 -1  1  1]\n",
      " [ 0  1  0  0  1  1 -1 -1  0  1]\n",
      " [ 0  1  0  1  0  0  0  1  1  1]\n",
      " [ 0  1  0  1  0  1  0  0  1  0]\n",
      " [ 0  1  0  0 -1 -1  1  0  1  1]\n",
      " [ 1  1  0  1 -1 -1  1  0  0  1]]\n"
     ]
    },
    {
     "data": {
      "image/png": "[encoded data removed]",
      "text/plain": [
       "<Figure size 288x288 with 1 Axes>"
      ]
     },
     "metadata": {
      "needs_background": "light"
     },
     "output_type": "display_data"
    }
   ],
   "source": [
    "import matplotlib.pyplot as plt\n",
    "\n",
    "# Display matrix\n",
    "plt.matshow(creationDeGang(tableauBase(0.5),0.5))\n",
    "plt.show()\n",
    "\n"
   ]
  },
  {
   "cell_type": "markdown",
   "metadata": {},
   "source": [
    "    *** 11/03 : création de programmes qui calcule la moyenne de l'entourage d'un 1 ou 0 (fait par urbain) ,creation de la list qui enregistre ceux qui on un bon ou un mauvais entourage et modifie  la matrice en conditionset presente le tout (danny) ,recherche documentale qui permettra de faire le parallele entre les  programmes utilisé  ***"
   ]
  },
  {
   "cell_type": "code",
   "execution_count": 11,
   "metadata": {},
   "outputs": [],
   "source": [
    "def voisins(tab, rowNumber, columnNumber):\n",
    "    '''\n",
    "    Petite fonction pour récupérer les voisins\n",
    "    '''\n",
    "    N = []\n",
    "    for i in range(rowNumber-1, rowNumber+2):\n",
    "        for j in range(columnNumber-1, columnNumber+2):\n",
    "            if  (i >= 0 and i < tab.shape[0]) and (j >= 0 and j < tab.shape[1]) and ((i,j)!=(rowNumber,columnNumber)):\n",
    "                N.append(tab[i,j])\n",
    "    return N\n"
   ]
  },
  {
   "cell_type": "code",
   "execution_count": 10,
   "metadata": {},
   "outputs": [
    {
     "data": {
      "text/plain": [
       "0.5"
      ]
     },
     "execution_count": 10,
     "metadata": {},
     "output_type": "execute_result"
    }
   ],
   "source": [
    "def moyenne_voisins(tab,i,j):\n",
    "    '''\n",
    "    Calcul de la moyenne des valeurs voisinnes\n",
    "    '''\n",
    "    N = voisins(tab,i,j)\n",
    "    return sum(N)/len(N)\n",
    "    \n",
    "moyenne_voisins(tab,6,4)"
   ]
  },
  {
   "cell_type": "code",
   "execution_count": 12,
   "metadata": {
    "scrolled": true
   },
   "outputs": [
    {
     "name": "stdout",
     "output_type": "stream",
     "text": [
      "\n",
      "\n",
      "\t\t VILLE BASIQUE\n",
      "\n",
      "\n",
      "\n",
      "[[0 1 0 0 1 1 0 1 0 0]\n",
      " [1 1 1 0 0 0 1 0 0 0]\n",
      " [1 1 0 1 1 1 1 1 0 0]\n",
      " [0 1 1 0 1 1 1 0 1 1]\n",
      " [0 0 1 0 0 0 0 0 1 0]\n",
      " [1 0 0 0 1 0 1 1 0 1]\n",
      " [0 0 1 1 0 1 0 1 1 0]\n",
      " [0 0 1 1 1 0 0 1 1 1]\n",
      " [0 1 0 0 0 0 1 0 0 0]\n",
      " [0 1 1 0 1 1 1 1 0 0]]\n"
     ]
    },
    {
     "data": {
      "text/plain": [
       "[1,\n",
       " 0,\n",
       " 0,\n",
       " 0,\n",
       " 1,\n",
       " 1,\n",
       " 1,\n",
       " 0,\n",
       " 0,\n",
       " 1,\n",
       " 1,\n",
       " 1,\n",
       " 1,\n",
       " 0,\n",
       " 0,\n",
       " 1,\n",
       " 0,\n",
       " 0,\n",
       " 0,\n",
       " 0,\n",
       " 0,\n",
       " 0,\n",
       " 0,\n",
       " 1,\n",
       " 1,\n",
       " 1,\n",
       " 0,\n",
       " 0,\n",
       " 0,\n",
       " 0,\n",
       " 0,\n",
       " 0,\n",
       " 1,\n",
       " 1,\n",
       " 0,\n",
       " 0]"
      ]
     },
     "execution_count": 12,
     "metadata": {},
     "output_type": "execute_result"
    }
   ],
   "source": [
    "def Ldemande(tableau,P):\n",
    "    \"\"\" quand on fait le parcours de tableau on voit l'entourage et on place dans une liste (liste demande) les demande de demenagement\"\"\"\n",
    "    \n",
    "    #DM : list[int]\n",
    "    DM = []\n",
    "    for i in range(len(tableau)) :\n",
    "        for j in range(len(tableau)) :\n",
    "            #if  i+1 < len(tableau) and i-1 >= 0 and  j+1 < len(tableau) and j-1 >= 0 :\n",
    "                if (tableau[i,j] == 1 and  moyenne_voisins(tableau,i,j) > 0.5) or (tableau[i,j] == 0 and  moyenne_voisins(tableau,i,j) < 0.5) :\n",
    "                    DM.append(tableau[i,j])\n",
    "                                             \n",
    "    return DM\n",
    "Ldemande(tableauBase(0.5) ,0.5)\n",
    "\n"
   ]
  },
  {
   "cell_type": "code",
   "execution_count": 28,
   "metadata": {},
   "outputs": [
    {
     "data": {
      "text/plain": [
       "0"
      ]
     },
     "execution_count": 28,
     "metadata": {},
     "output_type": "execute_result"
    }
   ],
   "source": [
    "# def moyenne(tableau,i, j):\n",
    "#     \"\"\"int*int -> Number \n",
    "#        Calcule la moyenne 1 case autour de la case définie par (i,j)\n",
    "#     \"\"\"\n",
    "#     n_line, n_col = tableau.shape\n",
    "#     moyenne = 0 \n",
    "    \n",
    "#     if i+1 < len(tableau) and i-1 >= 0 and  j+1 < len(tableau) and j-1 >= 0 : \n",
    "#         moyenne = (tableau[i-1,j-1] + tableau[i,j-1] + tableau[i+1,j-1] + tableau[i-1,j] + tableau[i+1,j] + tableau[i-1,j+1] + tableau[i,j+1] + tableau[i+1,j+1])/8\n",
    "    \n",
    "#     return moyenne\n",
    "\n",
    "#     if True:\n",
    "#         pass\n",
    "#     elif i == 0 and j == 0 : # coin haut gauche\n",
    "#         moyenne = (tableau[i+1,j] + tableau[i+1,j+1] + tableau[i,j+1])/3\n",
    "        \n",
    "#     elif i == 0 and j == n_col-1 : # coin haut droite\n",
    "#         moyenne = (tableau[i+1,j] + tableau[i+1,j-1] +tableau[i,j-1])/3\n",
    "        \n",
    "#     elif i == n_line-1 and j == 0 : #coin bas gauche\n",
    "#         moyenne =(tableau[i-1,j]+ tableau[i-1,j+1] + tableau[i,j+1])/3\n",
    "        \n",
    "#     elif i == n_line-1 and j == n_col-1 :#coin bas droite\n",
    "#         moyenne = (tableau[i,j-1] + tableau[i-1,j-1] + tableau[i-1,j])/3\n",
    "        \n",
    "#     elif i >=1 and i <= n_line-2 and j == 0 : #ligne gauche\n",
    "#         moyenne = (tableau[i-1,j] + tableau[i-1, j+1] + tableau[i, j+1] + tableau[i+1,j+1] + tableau[i+1, j])/5\n",
    "        \n",
    "#     elif i == n_line-1 and j >= 1 and j <= n_col-2 : #ligne bas\n",
    "#         moyenne = (tableau[i, j -1] + tableau[i-1,j-1] + tableau[i-1,j] + tableau[i-1,j+1] + tableau[i,j+1])/5\n",
    "        \n",
    "#     elif i >= 1 and i <= n_line-2 and j == n_col-1 : #ligne droite\n",
    "#         moyenne = (tableau[i-1,j] + tableau[i-1,j-1] + tableau[i,j-1] + tableau[i-1, j-1] + tableau[i-1,j-1] )/5\n",
    "        \n",
    "#     elif i == 0 and j<= n_line -2 and j >= 1 : #ligne haut\n",
    "#         moyenne = (tableau[i,j+1] + tableau[i+1,j+1] + tableau [i+1,j] + tableau[i-1,j-1] + tableau[i,j+1] )/5\n",
    "    \n",
    "#     return moyenne"
   ]
  },
  {
   "cell_type": "code",
   "execution_count": 22,
   "metadata": {
    "scrolled": true
   },
   "outputs": [
    {
     "name": "stdout",
     "output_type": "stream",
     "text": [
      "\n",
      "\n",
      "\t\t REACTION HABITANT\n",
      "\n",
      "\n",
      "\n",
      "[[0 1 0 0 1 1 1 1 0 1]\n",
      " [1 1 1 1 1 1 1 1 1 1]\n",
      " [1 1 1 1 1 1 1 1 1 1]\n",
      " [0 0 0 0 0 2 2 1 1 1]\n",
      " [1 0 0 0 2 1 1 1 1 0]\n",
      " [1 0 0 0 1 1 1 1 1 1]\n",
      " [0 0 0 0 0 1 1 1 1 1]\n",
      " [0 2 2 0 0 0 1 1 1 1]\n",
      " [0 0 2 2 0 0 1 1 1 0]\n",
      " [0 0 0 1 0 0 1 0 0 0]]\n"
     ]
    },
    {
     "data": {
      "text/plain": [
       "array([[0, 1, 0, 0, 1, 1, 1, 1, 0, 1],\n",
       "       [1, 1, 1, 1, 1, 1, 1, 1, 1, 1],\n",
       "       [1, 1, 1, 1, 1, 1, 1, 1, 1, 1],\n",
       "       [0, 0, 0, 0, 0, 2, 2, 1, 1, 1],\n",
       "       [1, 0, 0, 0, 2, 1, 1, 1, 1, 0],\n",
       "       [1, 0, 0, 0, 1, 1, 1, 1, 1, 1],\n",
       "       [0, 0, 0, 0, 0, 1, 1, 1, 1, 1],\n",
       "       [0, 2, 2, 0, 0, 0, 1, 1, 1, 1],\n",
       "       [0, 0, 2, 2, 0, 0, 1, 1, 1, 0],\n",
       "       [0, 0, 0, 1, 0, 0, 1, 0, 0, 0]], dtype=int32)"
      ]
     },
     "execution_count": 22,
     "metadata": {},
     "output_type": "execute_result"
    }
   ],
   "source": [
    "def posedemenagement(tab,P):\n",
    "    \"\"\"transformation de personne qui on demande de demenager => case 1 ou 0 devient 2 represente la demande de demenagement \"\"\"\n",
    "    tableau = tab.copy()\n",
    "    for i in range(len(tableau)) :\n",
    "        for j in range(len(tableau)) :\n",
    "             if  i+1 < len(tableau) and i-1 >= 0 and  j+1 < len(tableau) and j-1 >= 0 :\n",
    "                    if (tableau[i,j] == 1 and  moyenne_voisins(tableau,i,j) < 0.5) or (tableau[i,j] == 0 and  moyenne_voisins(tableau,i,j) > 0.5 ) :\n",
    "                        tableau[i,j] = 2\n",
    "    print(\"\\n\\n\\t\\t REACTION HABITANT\\n\\n\\n\")\n",
    "    print(tableau)\n",
    "    return tableau \n",
    "posedemenagement(tab,0.5)\n",
    "\n"
   ]
  },
  {
   "cell_type": "markdown",
   "metadata": {},
   "source": [
    "***journee programme fini ***"
   ]
  },
  {
   "cell_type": "code",
   "execution_count": 23,
   "metadata": {},
   "outputs": [
    {
     "name": "stdout",
     "output_type": "stream",
     "text": [
      "\n",
      "\n",
      "\t\t VILLE BASIQUE\n",
      "\n",
      "\n",
      "\n",
      "[[0 0 0 1 1 0 1 0 0 0]\n",
      " [1 1 1 1 0 0 0 0 0 1]\n",
      " [1 0 0 1 0 0 0 1 0 0]\n",
      " [0 1 1 0 0 1 0 0 0 1]\n",
      " [1 1 1 1 1 0 1 0 0 1]\n",
      " [1 0 1 0 1 1 1 1 0 0]\n",
      " [0 1 1 0 1 0 0 0 0 1]\n",
      " [1 1 1 0 1 0 0 0 1 1]\n",
      " [0 1 0 1 1 0 1 0 0 0]\n",
      " [1 1 1 1 1 0 0 0 0 1]]\n",
      "\n",
      "\n",
      "\t\t REACTION HABITANT\n",
      "\n",
      "\n",
      "\n",
      "[[0 0 0 1 1 0 1 0 0 0]\n",
      " [1 2 1 1 0 0 0 0 0 1]\n",
      " [1 2 2 1 0 0 0 2 0 0]\n",
      " [0 1 1 2 2 1 0 0 0 1]\n",
      " [1 1 1 1 1 2 1 0 0 1]\n",
      " [1 2 1 2 1 1 1 2 0 0]\n",
      " [0 1 1 2 1 2 2 2 2 1]\n",
      " [1 1 1 2 1 2 2 2 1 1]\n",
      " [0 1 2 1 1 2 1 2 2 0]\n",
      " [1 1 1 1 1 0 0 0 0 1]]\n",
      "\n",
      "\n",
      "\t NOUVEAU  QUARTIER \n",
      "\n",
      "\n",
      "\n",
      "[[0 0 0 1 1 0 1 0 0 0]\n",
      " [1 0 1 1 0 0 0 0 0 1]\n",
      " [1 1 1 1 0 0 0 0 0 0]\n",
      " [0 1 1 1 1 1 0 0 0 1]\n",
      " [1 1 1 1 1 1 1 0 0 1]\n",
      " [1 1 1 1 1 1 1 0 0 0]\n",
      " [0 1 1 1 1 1 0 0 1 1]\n",
      " [1 1 1 1 1 1 0 0 1 1]\n",
      " [0 1 1 1 1 1 1 0 0 0]\n",
      " [1 1 1 1 1 0 0 0 0 1]]\n"
     ]
    },
    {
     "data": {
      "text/plain": [
       "array([[0, 0, 0, 1, 1, 0, 1, 0, 0, 0],\n",
       "       [1, 0, 1, 1, 0, 0, 0, 0, 0, 1],\n",
       "       [1, 1, 1, 1, 0, 0, 0, 0, 0, 0],\n",
       "       [0, 1, 1, 1, 1, 1, 0, 0, 0, 1],\n",
       "       [1, 1, 1, 1, 1, 1, 1, 0, 0, 1],\n",
       "       [1, 1, 1, 1, 1, 1, 1, 0, 0, 0],\n",
       "       [0, 1, 1, 1, 1, 1, 0, 0, 1, 1],\n",
       "       [1, 1, 1, 1, 1, 1, 0, 0, 1, 1],\n",
       "       [0, 1, 1, 1, 1, 1, 1, 0, 0, 0],\n",
       "       [1, 1, 1, 1, 1, 0, 0, 0, 0, 1]], dtype=int32)"
      ]
     },
     "execution_count": 23,
     "metadata": {},
     "output_type": "execute_result"
    }
   ],
   "source": [
    "def demenagement(tableau,tab_base,L,P):\n",
    "    \"\"\"deplacement de personne\"\"\"\n",
    "    \n",
    "    #ind : int\n",
    "    for i in range(len(tableau)) :\n",
    "        for j in range(len(tableau)) :\n",
    "            \n",
    "             if  i+1 < len(tableau) and i-1 >= 0 and  j+1 < len(tableau) and j-1 >= 0:\n",
    "                    \n",
    "                    if tableau[i,j] == 2  and moyenne_voisins(tab_base,i,j) >= 0.5 :\n",
    "                        for demandeur in range (0,len(L)-1):\n",
    "                             if L[demandeur] == 1:\n",
    "                                tableau[i,j] = L[demandeur]\n",
    "                                L[demandeur] = -2\n",
    "                                break\n",
    "                                \n",
    "                    if tableau[i,j] == 2  and moyenne_voisins(tab_base,i,j) < 0.5 :\n",
    "                        for demandeur in range (0,len(L)-1):\n",
    "                            if L[demandeur] == 0 :\n",
    "                                tableau[i,j] = L[demandeur]\n",
    "                                L[demandeur] = -2\n",
    "                                break\n",
    "                                \n",
    "    print(\"\\n\\n\\t NOUVEAU  QUARTIER \\n\\n\\n\")\n",
    "    print(tableau)\n",
    "    return tableau\n",
    "\n",
    "tab_base = tableauBase(0.5)\n",
    "L = Ldemande(tab_base,0.5)\n",
    "tab = posedemenagement(tab_base,0.5)\n",
    "demenagement(tab,tab_base,L,0.5)\n"
   ]
  },
  {
   "cell_type": "code",
   "execution_count": 24,
   "metadata": {},
   "outputs": [
    {
     "name": "stdout",
     "output_type": "stream",
     "text": [
      "\n",
      "\n",
      "\t NOUVEAU  QUARTIER \n",
      "\n",
      "\n",
      "\n",
      "[[0 0 0 1 1 0 1 0 0 0]\n",
      " [1 0 1 1 0 0 0 0 0 1]\n",
      " [1 1 1 1 0 0 0 0 0 0]\n",
      " [0 1 1 1 1 1 0 0 0 1]\n",
      " [1 1 1 1 1 1 1 0 0 1]\n",
      " [1 1 1 1 1 1 1 0 0 0]\n",
      " [0 1 1 1 1 1 0 0 1 1]\n",
      " [1 1 1 1 1 1 0 0 1 1]\n",
      " [0 1 1 1 1 1 1 0 0 0]\n",
      " [1 1 1 1 1 0 0 0 0 1]]\n"
     ]
    },
    {
     "data": {
      "image/png": "[encoded data removed]",
      "text/plain": [
       "<Figure size 288x288 with 1 Axes>"
      ]
     },
     "metadata": {
      "needs_background": "light"
     },
     "output_type": "display_data"
    },
    {
     "data": {
      "image/png": "[encoded data removed]",
      "text/plain": [
       "<Figure size 288x288 with 1 Axes>"
      ]
     },
     "metadata": {
      "needs_background": "light"
     },
     "output_type": "display_data"
    }
   ],
   "source": [
    "import matplotlib.pyplot as plt\n",
    "\n",
    "# Display matrix\n",
    "plt.matshow (tab_base)\n",
    "plt.matshow(demenagement(tab,tab_base,L,0.5))\n",
    "plt.show()"
   ]
  }
 ],
 "metadata": {
  "kernelspec": {
   "display_name": "Python 3",
   "language": "python",
   "name": "python3"
  },
  "language_info": {
   "codemirror_mode": {
    "name": "ipython",
    "version": 3
   },
   "file_extension": ".py",
   "mimetype": "text/x-python",
   "name": "python",
   "nbconvert_exporter": "python",
   "pygments_lexer": "ipython3",
   "version": "3.7.1"
  }
 },
 "nbformat": 4,
 "nbformat_minor": 2
}
