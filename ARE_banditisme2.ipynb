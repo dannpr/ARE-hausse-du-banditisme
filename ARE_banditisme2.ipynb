{
 "cells": [
  {
   "cell_type": "markdown",
   "metadata": {},
   "source": [
    "# SOCIETE "
   ]
  },
  {
   "cell_type": "code",
   "execution_count": 33,
   "metadata": {},
   "outputs": [],
   "source": [
    "#affichage\n",
    "import matplotlib.pyplot as plt"
   ]
  },
  {
   "cell_type": "markdown",
   "metadata": {},
   "source": [
    "***Dans la première matrice on place les riches (modélisés avec le chiffre 1) et les pauvres (modélisés avec le chiffre 0). \n",
    "On a d'abord une matrice composée uniquement de pauvres , puis la répartition des riches se fait grâce à une certaine probabilité qu'on applique.***"
   ]
  },
  {
   "cell_type": "code",
   "execution_count": 142,
   "metadata": {},
   "outputs": [
    {
     "name": "stdout",
     "output_type": "stream",
     "text": [
      "[[1 0 0 ... 1 0 0]\n",
      " [1 0 1 ... 1 1 1]\n",
      " [1 1 0 ... 1 1 0]\n",
      " ...\n",
      " [0 0 1 ... 1 0 1]\n",
      " [0 0 1 ... 0 1 1]\n",
      " [1 0 1 ... 1 1 0]]\n",
      "nb pers : 2401\n"
     ]
    }
   ],
   "source": [
    "import numpy as np\n",
    "import random\n",
    "\n",
    "def tableauBase(P):\n",
    "    \"\"\"les 0 sont les batiments pauvres et 1 les batiments riches.\"\"\"\n",
    "    tableau_de_zero_un = np.zeros((50,50), dtype='i')\n",
    "    for i in range(len(tableau_de_zero_un)):\n",
    "        for j in range(len(tableau_de_zero_un)):\n",
    "            if random.random() < P :\n",
    "                tableau_de_zero_un[i,j] = 1\n",
    "    #print(\"\\n\\n\\t\\t VILLE BASIQUE\\n\\n\\n\")\n",
    "    print(tableau_de_zero_un)\n",
    "    \n",
    "    return tableau_de_zero_un\n",
    "    \n",
    "tab_base = tableauBase(0.5)\n",
    "\n",
    "print(\"nb pers :\",verifNb(tab_base))"
   ]
  },
  {
   "cell_type": "markdown",
   "metadata": {},
   "source": [
    "***La deuxieme matrice représente notre ville avec l'apparition de gangs.  \n",
    "La présence d'un \"carré\" de -1 de 4 \"batiments\" de pauvres (un carré de 4 \"0\") crée un \"gang\" .***"
   ]
  },
  {
   "cell_type": "code",
   "execution_count": 116,
   "metadata": {},
   "outputs": [],
   "source": [
    "import numpy as np\n",
    "\n",
    "def creationDeGang(tab):\n",
    "    \"\"\"un carré de 0 crée un groupe de gang (nommé -1)\"\"\"\n",
    "    tableau = tab.copy()\n",
    "    for i in range(len(tableau)) :\n",
    "        for j in range(len(tableau)) :\n",
    "            if  i+1 < len(tableau) and i-1 >= 0 and  j+1 < len(tableau) and j-1 >= 0:\n",
    "                 if tableau[i,j] == 0 and tableau[i+1,j]==0  and tableau[i,j+1]==0 and tableau[i+1,j+1]==0 :\n",
    "                    tableau[i,j] = -1\n",
    "                    tableau[i+1,j]=-1 \n",
    "                    tableau[i,j+1]=-1\n",
    "                    tableau[i+1,j+1]=-1           \n",
    "    #print(\"\\n\\n\\t\\t VILLE AVEC GANG\\n\\n\\n\")\n",
    "    #print(tableau)\n",
    "    return tableau\n",
    "\n",
    "#tab_G =creationDeGang(tab_base)"
   ]
  },
  {
   "cell_type": "markdown",
   "metadata": {},
   "source": [
    "***Modélisation en couleur :*** \n",
    "    - Les carrés de violet représentent les gangs crées précédemment (initialement -1)\n",
    "    - Les riches représentés en jaune ( initialement 1)\n",
    "    - Les pauvres représentés en bleu (initialement 0)"
   ]
  },
  {
   "cell_type": "markdown",
   "metadata": {},
   "source": [
    "***11/03 -> 25/03 :***  \n",
    "Urbain : Création de programme qui calcule la moyenne de l'entourage d'un 1 ou 0 \n",
    "\n",
    "Danny : Création de programme de liste de demande de déménagement : quand la moyenne de l'entourage d'un individu est plus ou moins élevée , en fonction de son statut social, il aura tendance à vouloir partir ou rester. \n",
    "Le but est d'être le plus entouré de ses semblables. ( Modification de la matrice de base )\n",
    "\n",
    "Assma : Recherche documentaire ,liens et paralèlles avec les  programmes établis. "
   ]
  },
  {
   "cell_type": "code",
   "execution_count": 117,
   "metadata": {},
   "outputs": [],
   "source": [
    "def voisins(tab, rowNumber, columnNumber):\n",
    "    '''\n",
    "    Petite fonction pour récupérer les voisins\n",
    "    '''\n",
    "    N = []\n",
    "    for i in range(rowNumber-1, rowNumber+2):\n",
    "        for j in range(columnNumber-1, columnNumber+2):\n",
    "            if  (i >= 0 and i < tab.shape[0]) and (j >= 0 and j < tab.shape[1]) and ((i,j)!=(rowNumber,columnNumber)):\n",
    "                N.append(tab[i,j])\n",
    "    return N\n"
   ]
  },
  {
   "cell_type": "code",
   "execution_count": 118,
   "metadata": {},
   "outputs": [
    {
     "data": {
      "text/plain": [
       "0.625"
      ]
     },
     "execution_count": 118,
     "metadata": {},
     "output_type": "execute_result"
    }
   ],
   "source": [
    "def moyenne_voisins(tab,i,j):\n",
    "    '''\n",
    "    Calcul de la moyenne des valeurs voisinnes\n",
    "    '''\n",
    "    N = voisins(tab,i,j)\n",
    "    return sum(N)/len(N)\n",
    "    \n",
    "moyenne_voisins(tab_base,6,4)"
   ]
  },
  {
   "cell_type": "code",
   "execution_count": 119,
   "metadata": {},
   "outputs": [],
   "source": [
    "def Ldemande(tableau):\n",
    "    \"\"\" quand on fait le parcours de tableau on voit l'entourage et on place dans une liste (liste demande) les demande de demenagement\"\"\"\n",
    "    \n",
    "    #DM : list[int]\n",
    "    DM = []\n",
    "    for i in range(len(tableau)) :\n",
    "        for j in range(len(tableau)) :\n",
    "            #if  i+1 < len(tableau) and i-1 >= 0 and  j+1 < len(tableau) and j-1 >= 0 :\n",
    "                if (tableau[i,j] == 1 and  moyenne_voisins(tableau,i,j) < 0.5) or (tableau[i,j] == 0 and  moyenne_voisins(tableau,i,j) > 0.5) :\n",
    "                    DM.append(tableau[i,j])\n",
    "                                             \n",
    "    return DM\n",
    "\n"
   ]
  },
  {
   "cell_type": "code",
   "execution_count": 120,
   "metadata": {},
   "outputs": [],
   "source": [
    "def posedemenagement(tab):\n",
    "    \"\"\"transformation de personne qui on demande de demenager => case 1 ou 0 devient 2 represente la demande de demenagement \"\"\"\n",
    "    tableau = tab.copy()\n",
    "    for i in range(len(tableau)) :\n",
    "        for j in range(len(tableau)) :\n",
    "             if  i+1 < len(tableau) and i-1 >= 0 and  j+1 < len(tableau) and j-1 >= 0 :\n",
    "                    if (tableau[i,j] == 1 and  moyenne_voisins(tableau,i,j) < 0.5) or (tableau[i,j] == 0 and  moyenne_voisins(tableau,i,j) > 0.5 ) :\n",
    "                        tableau[i,j] = 2\n",
    "        \n",
    "    #print(\"\\n\\n\\t\\t REACTION HABITANT\\n\\n\\n\")\n",
    "    #print(tableau)\n",
    "    return tableau\n"
   ]
  },
  {
   "cell_type": "code",
   "execution_count": 126,
   "metadata": {},
   "outputs": [],
   "source": [
    "def demenagement(tableau,tab_bases,L):\n",
    "    \"\"\"deplacement de personne\"\"\"\n",
    "    \n",
    "    #ind : int\n",
    "    for i in range(len(tableau)) :\n",
    "        for j in range(len(tableau)) :\n",
    "            \n",
    "             if  i+1 < len(tableau) and i-1 >= 0 and  j+1 < len(tableau) and j-1 >= 0:\n",
    "                    \n",
    "                    if tableau[i,j] == 2  and moyenne_voisins(tab_base,i,j) > 0.5 :\n",
    "                        for demandeur in range (0,len(L)-1):\n",
    "                             if L[demandeur] == 1:\n",
    "                                tableau[i,j] = L[demandeur]\n",
    "                                L[demandeur] = -2\n",
    "                                break\n",
    "                        if tableau[i,j] == 2:\n",
    "                            tableau[i,j] = tab_bases[i,j]\n",
    "                                \n",
    "                    if tableau[i,j] == 2  and moyenne_voisins(tab_base,i,j) <= 0.5 :\n",
    "                        for demandeur in range (0,len(L)-1):\n",
    "                            if L[demandeur] == 0 :\n",
    "                                tableau[i,j] = L[demandeur]\n",
    "                                L[demandeur] = -2\n",
    "                                break\n",
    "                                \n",
    "                        if tableau[i,j] == 2:\n",
    "                            tableau[i,j] = tab_bases[i,j]\n",
    "    print(\"\\n\\n\\t NOUVEAU  QUARTIER \\n\\n\\n\")\n",
    "    print(tableau)\n",
    "    return tableau\n"
   ]
  },
  {
   "cell_type": "code",
   "execution_count": 127,
   "metadata": {},
   "outputs": [],
   "source": [
    "def LdemandeurRestant(tableau,tab_bases,L):\n",
    "    \"\"\"liste des demande non traiter\"\"\"\n",
    "    #ind : int\n",
    "    for i in range(len(tableau)) :\n",
    "        for j in range(len(tableau)) :\n",
    "            if  i+1 < len(tableau) and i-1 >= 0 and  j+1 < len(tableau) and j-1 >= 0:\n",
    "                if tableau[i,j] == 2  and moyenne_voisins(tab_base,i,j) > 0.5 :\n",
    "                    for demandeur in range (0,len(L)-1):\n",
    "                        if L[demandeur] == 1:\n",
    "                            L[demandeur] = -2\n",
    "                            break\n",
    "                                \n",
    "                if tableau[i,j] == 2  and moyenne_voisins(tab_base,i,j) <= 0.5 :\n",
    "                    for demandeur in range (0,len(L)-1):\n",
    "                        if L[demandeur] == 0 :\n",
    "                            L[demandeur] = -2\n",
    "                            break\n",
    "    return L"
   ]
  },
  {
   "cell_type": "code",
   "execution_count": 141,
   "metadata": {
    "scrolled": true
   },
   "outputs": [
    {
     "name": "stdout",
     "output_type": "stream",
     "text": [
      "\n",
      "\n",
      "\t NOUVEAU  QUARTIER \n",
      "\n",
      "\n",
      "\n",
      "[[0 1 0 ... 1 1 0]\n",
      " [0 0 0 ... 1 0 0]\n",
      " [0 1 1 ... 0 0 0]\n",
      " ...\n",
      " [1 0 1 ... 0 0 0]\n",
      " [0 0 1 ... 1 0 1]\n",
      " [1 1 0 ... 0 1 1]]\n",
      "nombre de demenagement : 932\n",
      "\n",
      "\n",
      "\t NOUVEAU  QUARTIER \n",
      "\n",
      "\n",
      "\n",
      "[[0 1 0 ... 1 1 0]\n",
      " [0 0 0 ... 0 0 0]\n",
      " [0 1 1 ... 0 0 0]\n",
      " ...\n",
      " [1 0 1 ... 0 0 0]\n",
      " [0 0 1 ... 1 0 1]\n",
      " [1 1 0 ... 0 1 1]]\n",
      "nombre de demenagement : 425\n",
      "\n",
      "\n",
      "\t NOUVEAU  QUARTIER \n",
      "\n",
      "\n",
      "\n",
      "[[0 1 0 ... 1 1 0]\n",
      " [0 0 0 ... 0 0 0]\n",
      " [0 1 1 ... 0 0 0]\n",
      " ...\n",
      " [1 0 1 ... 0 0 0]\n",
      " [0 0 1 ... 1 0 1]\n",
      " [1 1 0 ... 0 1 1]]\n",
      "nombre de demenagement : 422\n",
      "\n",
      "\n",
      "\t NOUVEAU  QUARTIER \n",
      "\n",
      "\n",
      "\n",
      "[[0 1 0 ... 1 1 0]\n",
      " [0 0 0 ... 0 0 0]\n",
      " [0 1 1 ... 0 0 0]\n",
      " ...\n",
      " [1 0 1 ... 0 0 0]\n",
      " [0 0 1 ... 1 0 1]\n",
      " [1 1 0 ... 0 1 1]]\n",
      "nombre de demenagement : 420\n",
      "\n",
      "\n",
      "\t NOUVEAU  QUARTIER \n",
      "\n",
      "\n",
      "\n",
      "[[0 1 0 ... 1 1 0]\n",
      " [0 0 0 ... 0 0 0]\n",
      " [0 1 1 ... 0 0 0]\n",
      " ...\n",
      " [1 0 1 ... 0 0 0]\n",
      " [0 0 1 ... 1 0 1]\n",
      " [1 1 0 ... 0 1 1]]\n",
      "nombre de demenagement : 418\n",
      "\n",
      "\n",
      "\t NOUVEAU  QUARTIER \n",
      "\n",
      "\n",
      "\n",
      "[[0 1 0 ... 1 1 0]\n",
      " [0 0 0 ... 0 0 0]\n",
      " [0 1 1 ... 0 0 0]\n",
      " ...\n",
      " [1 0 1 ... 0 0 0]\n",
      " [0 0 1 ... 1 0 1]\n",
      " [1 1 0 ... 0 1 1]]\n",
      "nombre de demenagement : 418\n",
      "\n",
      "\n",
      "\t NOUVEAU  QUARTIER \n",
      "\n",
      "\n",
      "\n",
      "[[0 1 0 ... 1 1 0]\n",
      " [0 0 0 ... 0 0 0]\n",
      " [0 1 1 ... 0 0 0]\n",
      " ...\n",
      " [1 0 1 ... 0 0 0]\n",
      " [0 0 1 ... 1 0 1]\n",
      " [1 1 0 ... 0 1 1]]\n",
      "nombre de demenagement : 418\n",
      "\n",
      "\n",
      "\t NOUVEAU  QUARTIER \n",
      "\n",
      "\n",
      "\n",
      "[[0 1 0 ... 1 1 0]\n",
      " [0 0 0 ... 0 0 0]\n",
      " [0 1 1 ... 0 0 0]\n",
      " ...\n",
      " [1 0 1 ... 0 0 0]\n",
      " [0 0 1 ... 1 0 1]\n",
      " [1 1 0 ... 0 1 1]]\n",
      "nombre de demenagement : 418\n",
      "\n",
      "\n",
      "\t NOUVEAU  QUARTIER \n",
      "\n",
      "\n",
      "\n",
      "[[0 1 0 ... 1 1 0]\n",
      " [0 0 0 ... 0 0 0]\n",
      " [0 1 1 ... 0 0 0]\n",
      " ...\n",
      " [1 0 1 ... 0 0 0]\n",
      " [0 0 1 ... 1 0 1]\n",
      " [1 1 0 ... 0 1 1]]\n",
      "nombre de demenagement : 418\n"
     ]
    },
    {
     "data": {
      "image/png": "[encoded data removed]",
      "text/plain": [
       "<Figure size 288x288 with 1 Axes>"
      ]
     },
     "metadata": {
      "needs_background": "light"
     },
     "output_type": "display_data"
    },
    {
     "data": {
      "image/png": "[encoded data removed]",
      "text/plain": [
       "<Figure size 288x288 with 1 Axes>"
      ]
     },
     "metadata": {
      "needs_background": "light"
     },
     "output_type": "display_data"
    },
    {
     "data": {
      "image/png": "[encoded data removed]",
      "text/plain": [
       "<Figure size 288x288 with 1 Axes>"
      ]
     },
     "metadata": {
      "needs_background": "light"
     },
     "output_type": "display_data"
    },
    {
     "data": {
      "image/png": "[encoded data removed]",
      "text/plain": [
       "<Figure size 288x288 with 1 Axes>"
      ]
     },
     "metadata": {
      "needs_background": "light"
     },
     "output_type": "display_data"
    },
    {
     "data": {
      "image/png": "[encoded data removed]",
      "text/plain": [
       "<Figure size 288x288 with 1 Axes>"
      ]
     },
     "metadata": {
      "needs_background": "light"
     },
     "output_type": "display_data"
    },
    {
     "data": {
      "image/png": "[encoded data removed]",
      "text/plain": [
       "<Figure size 288x288 with 1 Axes>"
      ]
     },
     "metadata": {
      "needs_background": "light"
     },
     "output_type": "display_data"
    },
    {
     "data": {
      "image/png": "[encoded data removed]",
      "text/plain": [
       "<Figure size 288x288 with 1 Axes>"
      ]
     },
     "metadata": {
      "needs_background": "light"
     },
     "output_type": "display_data"
    },
    {
     "data": {
      "image/png": "[encoded data removed]",
      "text/plain": [
       "<Figure size 288x288 with 1 Axes>"
      ]
     },
     "metadata": {
      "needs_background": "light"
     },
     "output_type": "display_data"
    },
    {
     "data": {
      "image/png": "[encoded data removed]",
      "text/plain": [
       "<Figure size 288x288 with 1 Axes>"
      ]
     },
     "metadata": {
      "needs_background": "light"
     },
     "output_type": "display_data"
    },
    {
     "data": {
      "image/png": "[encoded data removed]",
      "text/plain": [
       "<Figure size 288x288 with 1 Axes>"
      ]
     },
     "metadata": {
      "needs_background": "light"
     },
     "output_type": "display_data"
    },
    {
     "data": {
      "image/png": "[encoded data removed]",
      "text/plain": [
       "<Figure size 288x288 with 1 Axes>"
      ]
     },
     "metadata": {
      "needs_background": "light"
     },
     "output_type": "display_data"
    },
    {
     "name": "stdout",
     "output_type": "stream",
     "text": [
      "nb pers : 2401\n"
     ]
    }
   ],
   "source": [
    "def n_generations(tab_bases,n):\n",
    "    \"\"\" transformation de la ville selon les generation \"\"\"\n",
    "    \n",
    "    ancienneV = tab_bases\n",
    "    plt.matshow(ancienneV)\n",
    "    \n",
    "    for nb in range(0,n-1):\n",
    "\n",
    "        demenagementDM  = posedemenagement(ancienneV)\n",
    "        Ldm = Ldemande(ancienneV)\n",
    "        nouvV = demenagement(demenagementDM,ancienneV,Ldm) \n",
    "        ancienneV = nouvV\n",
    "        print(\"nombre de demenagement :\",len(Ldm))\n",
    "        \n",
    "        plt.matshow(nouvV)\n",
    "    #rajout de la creation de gangs\n",
    "    plt.matshow(creationDeGang(nouvV))\n",
    "    plt.show()\n",
    "    \n",
    "    print(\"nb pers :\",verifNb(nouvV))\n",
    "    return 0 \n",
    "\n",
    "tabF=n_generations(tab_base,10)"
   ]
  },
  {
   "cell_type": "markdown",
   "metadata": {},
   "source": [
    "***01/04 : AREFIN Finalisation du projet durant les 3 dernieres séances :***\n",
    "        - amélioration du programme pour montrer l'évolution ( la hausse ) du banditisme dû à la presence de gangs ( modélisation sur plusieurs génération )\n",
    "        - rédaction de tout les commentaires liés aux programmes \n",
    "        - rédaction rapport \n",
    "        - mise en place présentation ppw"
   ]
  },
  {
   "cell_type": "code",
   "execution_count": 78,
   "metadata": {},
   "outputs": [],
   "source": [
    "def verifNb(tabF):\n",
    "    tab = tabF\n",
    "    comptR = 0\n",
    "    comptP = 0\n",
    "    for i in range(len(tab)) :\n",
    "        for j in range(len(tab)) :\n",
    "            if  i+1 <= len(tab) and i-1 >= 0 and  j+1 <= len(tab) and j-1 >= 0:\n",
    "                if tab[i,j] == 1:\n",
    "                    comptR = comptR +1\n",
    "                if tab[i,j] == 0:\n",
    "                    comptP = comptP +1\n",
    "    return comptR + comptP\n"
   ]
  }
 ],
 "metadata": {
  "kernelspec": {
   "display_name": "Python 3",
   "language": "python",
   "name": "python3"
  },
  "language_info": {
   "codemirror_mode": {
    "name": "ipython",
    "version": 3
   },
   "file_extension": ".py",
   "mimetype": "text/x-python",
   "name": "python",
   "nbconvert_exporter": "python",
   "pygments_lexer": "ipython3",
   "version": "3.7.1"
  }
 },
 "nbformat": 4,
 "nbformat_minor": 2
}
