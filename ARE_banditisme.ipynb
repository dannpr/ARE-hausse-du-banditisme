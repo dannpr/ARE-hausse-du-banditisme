{
 "cells": [
  {
   "cell_type": "markdown",
   "metadata": {},
   "source": [
    "# SOCIETE "
   ]
  },
  {
   "cell_type": "markdown",
   "metadata": {},
   "source": [
    "*** Dans la premiere matrice on place les riches(modélisé à 1) et les pauvres (modélisé à 0) selon la probabilités que nous donnons ***"
   ]
  },
  {
   "cell_type": "code",
   "execution_count": null,
   "metadata": {},
   "outputs": [],
   "source": [
    "\n",
    "import numpy as np\n",
    "import random\n",
    "\n",
    "def tableauBase(P):\n",
    "    \"\"\"les O sont les batiments pauvres et 1 les batiments riches.\"\"\"\n",
    "    tableau_de_zero_un = np.zeros((10,10), dtype='i')\n",
    "    for i in range(len(tableau_de_zero_un)):\n",
    "        for j in range(len(tableau_de_zero_un)):\n",
    "            if random.random() < P :\n",
    "                tableau_de_zero_un[i,j] = 1\n",
    "    print(\"\\n\\n\\t\\t VILLE BASIQUE\\n\\n\\n\")\n",
    "    return (tableau_de_zero_un)\n",
    "    \n",
    "tableauBase(0.6)"
   ]
  },
  {
   "cell_type": "markdown",
   "metadata": {},
   "source": [
    "*** la deuxieme matrice represente la creation de gang dû à la présence d'un \" carré\"(de -1) de 4 \"batiments\" de pauvres.***"
   ]
  },
  {
   "cell_type": "code",
   "execution_count": null,
   "metadata": {},
   "outputs": [],
   "source": [
    "\n",
    "import numpy as np\n",
    "\n",
    "def creationDeGang(P):\n",
    "    \"\"\"H: nous voulons savoir si un carré crée un groupe de gang (nommé 3)\"\"\"\n",
    "    \n",
    "    tableau = tableauBase(P)\n",
    "    print (tableau)\n",
    "    for i in range(len(tableau)) :\n",
    "        for j in range(len(tableau)) :\n",
    "            if  i+1 < len(tableau) and i-1 >= 0 and  j+1 < len(tableau) and j-1 >= 0:\n",
    "                 if tableau[i,j] == 0 and tableau[i+1,j]==0  and tableau[i,j+1]==0 and tableau[i+1,j+1]==0 :\n",
    "                    \n",
    "                    tableau[i,j] = -1\n",
    "                    tableau[i+1,j]=-1 \n",
    "     \n",
    "                    tableau[i,j+1]=-1\n",
    "                    tableau[i+1,j+1]=-1\n",
    "                    \n",
    "    print(\"\\n\\n\\t\\t VILLE AVEC GANG\\n\\n\\n\")\n",
    "    return tableau\n",
    "creationDeGang(0.6)"
   ]
  },
  {
   "cell_type": "markdown",
   "metadata": {},
   "source": [
    "***les carrés de violet seront les gangs crée ,je 1 est en jaune et en bleu le 0***"
   ]
  },
  {
   "cell_type": "markdown",
   "metadata": {},
   "source": [
    "***On remarque que il y a des gangs qui se crée peu a peu dû à la grande présence de 0 (de pauvreté)***"
   ]
  },
  {
   "cell_type": "code",
   "execution_count": null,
   "metadata": {
    "scrolled": true
   },
   "outputs": [],
   "source": [
    "import matplotlib.pyplot as plt\n",
    "\n",
    "# Display matrix\n",
    "plt.matshow(creationDeGang(0.5))\n",
    "plt.show()"
   ]
  },
  {
   "cell_type": "markdown",
   "metadata": {},
   "source": [
    "    *** 11/03 : création de programmes qui calcule la moyenne de l'entourage d'un 1 ou 0 (fait par urbain) ,creation de la list qui enregistre ceux qui on un bon ou un mauvais entourage et modifie  la matrice en conditionset presente le tout (danny) ,recherche documentale qui permettra de faire le parallele entre les  programmes utilisé  ***"
   ]
  },
  {
   "cell_type": "code",
   "execution_count": null,
   "metadata": {},
   "outputs": [],
   "source": [
    "def Ldemande(P):\n",
    "    \"\"\" quand on fait le parcours de tableau on voit l'entourage et on place dans une liste (liste demande) les demande de demenagement\"\"\"\n",
    "    tableau = creationDeGang(P)\n",
    "    \n",
    "    #DM : list[int]\n",
    "    DM = []\n",
    "    \n",
    "     for i in range(len(tableau)) :\n",
    "        for j in range(len(tableau)) :\n",
    "            #if  i+1 < len(tableau) and i-1 >= 0 and  j+1 < len(tableau) and j-1 >= 0 :\n",
    "                    if (tableau[i,j] == 1 and  moyenne(i,j) > 0.5) or (  tableau[i,j] == 0 and  moyenne(i,j) < 0.5 ) :\n",
    "                        DM.append(tableau[i,j])\n",
    "                                             \n",
    "    return DM"
   ]
  },
  {
   "cell_type": "code",
   "execution_count": null,
   "metadata": {},
   "outputs": [],
   "source": [
    "def posedemenagement(P):\n",
    "    \"\"\"transformation de personne qui on demande de demenager => case 1 ou 0 devient 2 represente la demande de demenagement \"\"\"\n",
    "    tableau = creationDeGang(P)\n",
    "    \n",
    "    for i in range(len(tableau)) :\n",
    "        for j in range(len(tableau)) :\n",
    "             if  i+1 < len(tableau) and i-1 >= 0 and  j+1 < len(tableau) and j-1 >= 0 :\n",
    "                    if (tableau[i,j] == 1 and  moyenne(i,j) > 0.5) or (tableau[i,j] == 0 and  moyenne(i,j) < 0.5 ) :\n",
    "                        tableau[i,j] = 2\n",
    "                        \n",
    "    print(\"\\n\\n\\t\\t REACTION HABITANT\\n\\n\\n\")\n",
    "    return tableau "
   ]
  },
  {
   "cell_type": "code",
   "execution_count": 2,
   "metadata": {},
   "outputs": [
    {
     "ename": "SyntaxError",
     "evalue": "invalid syntax (<ipython-input-2-aed156da779f>, line 1)",
     "output_type": "error",
     "traceback": [
      "\u001b[0;36m  File \u001b[0;32m\"<ipython-input-2-aed156da779f>\"\u001b[0;36m, line \u001b[0;32m1\u001b[0m\n\u001b[0;31m    def demenagement(P,L)\u001b[0m\n\u001b[0m                         ^\u001b[0m\n\u001b[0;31mSyntaxError\u001b[0m\u001b[0;31m:\u001b[0m invalid syntax\n"
     ]
    }
   ],
   "source": [
    "def demenagement(P,L):\n",
    "    \"\"\"\"\"\"\n",
    "    tableau = posedemenagement(P)\n",
    "    \n",
    "    #ind : int\n",
    "    for i in range(len(tableau)) :\n",
    "        for j in range(len(tableau)) :\n",
    "             if  i+1 < len(tableau) and i-1 >= 0 and  j+1 < len(tableau) and j-1 >= 0:\n",
    "                    #while( ind != len(L) ):\n",
    "                        if tableau[i,j] == 2 and and moyenne(i,j) > 0.5 :\n",
    "                            for demandeur in range (O,len(L)-1):\n",
    "                                 if L[demandeur] == 1:\n",
    "                                    tableau[i,j] = L[demandeur]\n",
    "                                    L[demandeur] = -2\n",
    "                            \n",
    "                        if tableau[i,j] == 2 and and moyenne(i,j) < 0.5 :\n",
    "                            for demandeur in range (O,len(L)-1):\n",
    "                                if L[demandeur] == 0 :\n",
    "                                    tableau[i,j] = L[demandeur]\n",
    "                                    L[demandeur] = -2\n",
    "    print(\"\\n\\n\\t NOUVEAU  QUARTIER \\n\\n\\n\")\n",
    "    return tableau"
   ]
  }
 ],
 "metadata": {
  "kernelspec": {
   "display_name": "Python 3",
   "language": "python",
   "name": "python3"
  },
  "language_info": {
   "codemirror_mode": {
    "name": "ipython",
    "version": 3
   },
   "file_extension": ".py",
   "mimetype": "text/x-python",
   "name": "python",
   "nbconvert_exporter": "python",
   "pygments_lexer": "ipython3",
   "version": "3.7.1"
  }
 },
 "nbformat": 4,
 "nbformat_minor": 2
}
